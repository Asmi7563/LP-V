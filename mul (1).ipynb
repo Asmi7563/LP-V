{
  "nbformat": 4,
  "nbformat_minor": 0,
  "metadata": {
    "colab": {
      "provenance": [],
      "gpuType": "T4"
    },
    "kernelspec": {
      "name": "python3",
      "display_name": "Python 3"
    },
    "language_info": {
      "name": "python"
    },
    "accelerator": "GPU"
  },
  "cells": [
    {
      "cell_type": "code",
      "execution_count": 1,
      "metadata": {
        "colab": {
          "base_uri": "https://localhost:8080/"
        },
        "id": "caioUI90xs9U",
        "outputId": "dc944197-d45b-4da9-a090-22f7d7c61913"
      },
      "outputs": [
        {
          "output_type": "stream",
          "name": "stdout",
          "text": [
            "Reading package lists... Done\n",
            "Building dependency tree... Done\n",
            "Reading state information... Done\n",
            "E: Unable to locate package cuda-toolkit-11-0\n"
          ]
        }
      ],
      "source": [
        "!apt-get install -y cuda-toolkit-11-0"
      ]
    },
    {
      "cell_type": "code",
      "source": [
        " %%writefile mul.cu\n",
        "#include <cuda_runtime.h>\n",
        "#include <iostream>\n",
        "__global__ void matmul(int* A, int* B, int* C, int N) {\n",
        "    int Row = blockIdx.y * blockDim.y + threadIdx.y;\n",
        "    int Col = blockIdx.x * blockDim.x + threadIdx.x;\n",
        "\n",
        "    if (Row < N && Col < N) {\n",
        "      int Pvalue = 0;\n",
        "      for (int k = 0; k < N; k++) {\n",
        "        Pvalue += A[Row * N + k] * B[k * N + Col];\n",
        "      }\n",
        "      C[Row * N + Col] = Pvalue;\n",
        "    }\n",
        "  }\n",
        "\n",
        "int main() {\n",
        "    int N = 512;\n",
        "    int size = N * N * sizeof(int);\n",
        "    int *A, *B, *C;\n",
        "    int *dev_A, *dev_B, *dev_C;\n",
        "\n",
        "\n",
        "    cudaMallocHost((void**)&A, size);\n",
        "    cudaMallocHost((void**)&B, size);\n",
        "    cudaMallocHost((void**)&C, size);\n",
        "\n",
        "    cudaMalloc((void**)&dev_A, size);\n",
        "    cudaMalloc((void**)&dev_B, size);\n",
        "    cudaMalloc((void**)&dev_C, size);\n",
        "\n",
        "    for (int i = 0; i < N; i++) {\n",
        "      for (int j = 0; j < N; j++) {\n",
        "\n",
        "      A[i * N + j] = i * N + j;\n",
        "      B[i * N + j] = j * N + i;\n",
        "    }\n",
        "  }\n",
        "\n",
        "  cudaMemcpy(dev_A, A, size, cudaMemcpyHostToDevice);\n",
        "  cudaMemcpy(dev_B, B, size, cudaMemcpyHostToDevice);\n",
        "\n",
        "  dim3 dimBlock(16, 16);\n",
        "  dim3 dimGrid((N + dimBlock.x - 1) / dimBlock.x, (N + dimBlock.y - 1) /dimBlock.y);\n",
        "\n",
        "  matmul<<<dimGrid, dimBlock>>>(dev_A, dev_B, dev_C, N);\n",
        "\n",
        "  cudaMemcpy(C, dev_C, size, cudaMemcpyDeviceToHost);\n",
        "\n",
        "  for (int i = 0; i < 10; i++) {\n",
        "    for (int j = 0; j < 10; j++) {\n",
        "      std::cout << C[i * N + j] << \" \";\n",
        "    }\n",
        "    std::cout << std::endl;\n",
        "  }\n",
        "\n",
        "  cudaFree(dev_A);\n",
        "  cudaFree(dev_B);\n",
        "  cudaFree(dev_C);\n",
        "  cudaFreeHost(A);\n",
        "  cudaFreeHost(B);\n",
        "  cudaFreeHost(C);\n",
        "\n",
        "  return 0;\n",
        "}\n"
      ],
      "metadata": {
        "colab": {
          "base_uri": "https://localhost:8080/"
        },
        "id": "h9U1HWvNzpq3",
        "outputId": "93638639-4978-4afd-f6c2-a5b554225910"
      },
      "execution_count": 18,
      "outputs": [
        {
          "output_type": "stream",
          "name": "stdout",
          "text": [
            "Overwriting mul.cu\n"
          ]
        }
      ]
    },
    {
      "cell_type": "code",
      "source": [
        "\n",
        "!nvcc -arch=sm_75 mul.cu -o mul #"
      ],
      "metadata": {
        "id": "gvCa9OkT0ZFm"
      },
      "execution_count": 19,
      "outputs": []
    },
    {
      "cell_type": "code",
      "source": [
        "!./mul"
      ],
      "metadata": {
        "colab": {
          "base_uri": "https://localhost:8080/"
        },
        "id": "BTEsjOPq080t",
        "outputId": "86ee9656-87c3-4afe-e506-19dcc081f4dc"
      },
      "execution_count": 20,
      "outputs": [
        {
          "output_type": "stream",
          "name": "stdout",
          "text": [
            "44608256 111586048 178563840 245541632 312519424 379497216 446475008 513452800 580430592 647408384 \n",
            "111586048 312781568 513977088 715172608 916368128 1117563648 1318759168 1519954688 1721150208 1922345728 \n",
            "178563840 513977088 849390336 1184803584 1520216832 1855630080 -2103923968 -1768510720 -1433097472 -1097684224 \n",
            "245541632 715172608 1184803584 1654434560 2124065536 -1701270784 -1231639808 -762008832 -292377856 177253120 \n",
            "312519424 916368128 1520216832 2124065536 -1567053056 -963204352 -359355648 244493056 848341760 1452190464 \n",
            "379497216 1117563648 1855630080 -1701270784 -963204352 -225137920 512928512 1250994944 1989061376 -1567839488 \n",
            "446475008 1318759168 -2103923968 -1231639808 -359355648 512928512 1385212672 -2037470464 -1165186304 -292902144 \n",
            "513452800 1519954688 -1768510720 -762008832 244493056 1250994944 -2037470464 -1030968576 -24466688 982035200 \n",
            "580430592 1721150208 -1433097472 -292377856 848341760 1989061376 -1165186304 -24466688 1116252928 -2037994752 \n",
            "647408384 1922345728 -1097684224 177253120 1452190464 -1567839488 -292902144 982035200 -2037994752 -763057408 \n"
          ]
        }
      ]
    }
  ]
}